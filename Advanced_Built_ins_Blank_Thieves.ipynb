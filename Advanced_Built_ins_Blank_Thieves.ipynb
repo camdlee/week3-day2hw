{
 "cells": [
  {
   "cell_type": "markdown",
   "metadata": {},
   "source": [
    "# Map, Filter, Reduce, Lambda & Recursion"
   ]
  },
  {
   "cell_type": "markdown",
   "metadata": {},
   "source": [
    "## Tasks Today:\n",
    "\n",
    "1) <b>Lambda Functions</b> <br>\n",
    " &nbsp;&nbsp;&nbsp;&nbsp; a) Syntax <br>\n",
    " &nbsp;&nbsp;&nbsp;&nbsp; b) Saving to a Variable <br>\n",
    " &nbsp;&nbsp;&nbsp;&nbsp; c) Multiple Inputs <br>\n",
    " &nbsp;&nbsp;&nbsp;&nbsp; d) Passing a Lambda into a Function <br>\n",
    " &nbsp;&nbsp;&nbsp;&nbsp; e) Returning a Lambda from a Function <br>\n",
    " &nbsp;&nbsp;&nbsp;&nbsp; f) In-Class Exercise #1 <br>\n",
    "2) <b>Map</b> <br>\n",
    " &nbsp;&nbsp;&nbsp;&nbsp; a) Syntax <br>\n",
    " &nbsp;&nbsp;&nbsp;&nbsp; b) Using Lambda's with Map <br>\n",
    " &nbsp;&nbsp;&nbsp;&nbsp; c) In-Class Exercise #2 <br>\n",
    "3) <b>Filter</b> <br>\n",
    " &nbsp;&nbsp;&nbsp;&nbsp; a) Syntax <br>\n",
    " &nbsp;&nbsp;&nbsp;&nbsp; b) Using Lambda's with Filter <br>\n",
    " &nbsp;&nbsp;&nbsp;&nbsp; c) In-Class Exercise #3 <br>\n",
    "4) <b>Reduce</b> <br>\n",
    " &nbsp;&nbsp;&nbsp;&nbsp; a) Syntax <br>\n",
    " &nbsp;&nbsp;&nbsp;&nbsp; b) Using Lambda's with Reduce <br>\n",
    " &nbsp;&nbsp;&nbsp;&nbsp; c) In-Class Exercise #4 <br>\n",
    "5) <b>Recursion</b> <br>\n",
    " &nbsp;&nbsp;&nbsp;&nbsp; a) Implementing a Base <br>\n",
    " &nbsp;&nbsp;&nbsp;&nbsp; b) Writing a Factorial Function <br>\n",
    " &nbsp;&nbsp;&nbsp;&nbsp; c) In-Class Exercise #5 <br>\n",
    "6) <b>Generators & Iterators</b> <br>\n",
    " &nbsp;&nbsp;&nbsp;&nbsp; a) Yield Keyword <br>\n",
    " &nbsp;&nbsp;&nbsp;&nbsp; b) Inifinite Generator <br>\n",
    " &nbsp;&nbsp;&nbsp;&nbsp; c) In-Class Exercise #6 <br>\n",
    "7) <b>Exercises</b> <br>\n",
    " &nbsp;&nbsp;&nbsp;&nbsp; a) Exercise #1 - Filtering Empty Strings <br>\n",
    " &nbsp;&nbsp;&nbsp;&nbsp; b) Exercise #2 - Sorting with Last Name <br>\n",
    " &nbsp;&nbsp;&nbsp;&nbsp; c) Exercise #3 - Conversion to Farhenheit <br>\n",
    " &nbsp;&nbsp;&nbsp;&nbsp; d) Exercise #4 - Fibonacci Sequence <br>"
   ]
  },
  {
   "cell_type": "markdown",
   "metadata": {},
   "source": [
    "## Lambda Functions <br>\n",
    "<p>Lambda functions... or \"Anonymous Functions\" are referring to inline functions with no name. The keyword lambda denotes the no name function, and executes within a single line. Without saving it to a variable; however, it is not able to be used, unless passed in either as a paramater or within list comprehension.<br>Written as \"(keyword lambda) (one or more inputs) (colon) (function to be executed)\"</p>"
   ]
  },
  {
   "cell_type": "markdown",
   "metadata": {},
   "source": [
    "#### Syntax"
   ]
  },
  {
   "cell_type": "code",
   "execution_count": null,
   "metadata": {},
   "outputs": [],
   "source": [
    "# lambda parameter: expression\n",
    "lambda num: num + 1\n",
    "add_one = lambda num: num + 1\n",
    "\n",
    "print(add_one(5))"
   ]
  },
  {
   "cell_type": "markdown",
   "metadata": {},
   "source": [
    "#### Multiple Parameters\n"
   ]
  },
  {
   "cell_type": "code",
   "execution_count": null,
   "metadata": {},
   "outputs": [],
   "source": [
    "multiply = lambda x,y,z: x*y*z\n",
    "\n",
    "print(multiply(5,6,2))\n",
    "\n",
    "# basically it's like the below function in one line\n",
    "#   def funMultiply(a,b):\n",
    "#       return a*b"
   ]
  },
  {
   "cell_type": "markdown",
   "metadata": {},
   "source": [
    "#### Passing a Lambda into a Function"
   ]
  },
  {
   "cell_type": "code",
   "execution_count": null,
   "metadata": {},
   "outputs": [],
   "source": [
    "def thisFunction(num):\n",
    "    return lambda lam_num: lam_num * num\n",
    "\n",
    "# our function will return another function \n",
    "\n",
    "doubler = thisFunction(2)\n",
    "# above function is basically this:\n",
    "#doubler2 = lambda lam_num: lam_num * 2\n",
    "doubler(3)\n",
    "doubler(3)\n",
    "\n",
    "# it allows us to manipulate fuctions without having to type out the whole code\n",
    "tripler = thisFunction(3)\n",
    "# this basically means tripler = lambda lam_num * 3\n",
    "tripler(3)"
   ]
  },
  {
   "cell_type": "markdown",
   "metadata": {},
   "source": [
    "#### Returning a Lambda from a Function"
   ]
  },
  {
   "cell_type": "code",
   "execution_count": null,
   "metadata": {},
   "outputs": [],
   "source": [
    "#see above"
   ]
  },
  {
   "attachments": {},
   "cell_type": "markdown",
   "metadata": {},
   "source": [
    "#### If Statements within Lambdas (Ternary Operator)"
   ]
  },
  {
   "cell_type": "code",
   "execution_count": null,
   "metadata": {},
   "outputs": [],
   "source": [
    "# Ternary operator essentially an if statement\n",
    "\n",
    "even_nums = lambda num: num % 2 ==0\n",
    "# saying if remainder passed in % 2 == 0 is correct, then it will return true\n",
    "# returns boolean value\n",
    "# basically a shorter way of writing:\n",
    "# def even_nums(num):\n",
    "#   if num % 2 == 0:\n",
    "#       return True\n",
    "#   else:\n",
    "#       return False\n",
    "\n",
    "even_nums(8)\n",
    "even_nums(7)"
   ]
  },
  {
   "cell_type": "markdown",
   "metadata": {},
   "source": [
    "#### In-Class Exercise #1 <br>\n",
    "<p>Write an anonymous function that cubes the arguments passed in and assign the anonymous function to a variable 'f'.</p>"
   ]
  },
  {
   "cell_type": "code",
   "execution_count": null,
   "metadata": {},
   "outputs": [],
   "source": [
    "cube = lambda f: f**3\n",
    "cube(3)\n",
    "cube(5)"
   ]
  },
  {
   "cell_type": "markdown",
   "metadata": {},
   "source": [
    "## Map <br>\n",
    "<p>The map function allows you to iterate over an entire list while running a function on each item of the list. This is why the map function works well with lambda's, because it simplifies things and you write less lines of code.<br>The syntax for a map function is \"map(function to be used, list to be used)\"<br>However, you must be careful, as the map function returns a map object, not a list. To turn it into a list we use the list() type conversion.</p>"
   ]
  },
  {
   "cell_type": "markdown",
   "metadata": {},
   "source": [
    "#### Syntax"
   ]
  },
  {
   "cell_type": "code",
   "execution_count": null,
   "metadata": {},
   "outputs": [],
   "source": [
    "# User defined function\n",
    "def double_num(num_list):\n",
    "    double_list = []\n",
    "    for num in num_list:\n",
    "        double_list.append(num*2)\n",
    "    return double_list\n",
    "\n",
    "this_list = [1,2,3,4,5,6,7,8,9,10]\n",
    "print(double_num(this_list))\n",
    "\n",
    "# map(function, iterable)\n",
    "def double_single_num(num):\n",
    "    return 2 * num\n",
    "\n",
    "map(double_single_num, this_list)\n",
    "print(list(map(double_single_num, this_list)))"
   ]
  },
  {
   "cell_type": "markdown",
   "metadata": {},
   "source": [
    "#### Using Lambda's with Map"
   ]
  },
  {
   "cell_type": "code",
   "execution_count": null,
   "metadata": {},
   "outputs": [],
   "source": [
    "print(list(map(lambda num: num * 2, this_list)))"
   ]
  },
  {
   "cell_type": "markdown",
   "metadata": {},
   "source": [
    "#### In-Class Exercise #2 <br>\n",
    "<p>Use the map function to double each number and minus it by one in the list by using a lambda function</p>"
   ]
  },
  {
   "cell_type": "code",
   "execution_count": null,
   "metadata": {},
   "outputs": [],
   "source": [
    "list1 = [2,6,99,2,45,56]\n",
    "\n",
    "double_min_one = lambda num: (num*2)-1\n",
    "print(list(map(double_min_one, list1)))"
   ]
  },
  {
   "cell_type": "markdown",
   "metadata": {},
   "source": [
    "## Filter() <br>\n",
    "<p>Filter's are similar to the map function, where you're able to pass a function argument and a list argument and filter out something from the list based on the conditions passed. Similar to the map function, it returns a filter object, so you need to type convert it to a list()</p>"
   ]
  },
  {
   "cell_type": "markdown",
   "metadata": {},
   "source": [
    "#### Syntax"
   ]
  },
  {
   "cell_type": "code",
   "execution_count": null,
   "metadata": {},
   "outputs": [],
   "source": [
    "# User defined function\n",
    "def only_odds(num_list):\n",
    "    odd_nums = []\n",
    "    for num in num_list:\n",
    "        if num % 2 != 0:\n",
    "            odd_nums.append(num)\n",
    "    return odd_nums\n",
    "list2 = [1,2,3,4,5,6,7,8,9,10]\n",
    "\n",
    "print(only_odds(list2))\n",
    "\n",
    "# filter(function, iterable)\n",
    "def filter_only_odds(num):\n",
    "    return num % 2 != 0\n",
    "\n",
    "filter(filter_only_odds, list2)\n",
    "print(list(filter(filter_only_odds, list2)))"
   ]
  },
  {
   "cell_type": "markdown",
   "metadata": {},
   "source": [
    "#### Using Lambda's with Filter()"
   ]
  },
  {
   "cell_type": "code",
   "execution_count": null,
   "metadata": {},
   "outputs": [],
   "source": [
    "print(list(filter(lambda num: num % 2 != 0, list2)))"
   ]
  },
  {
   "cell_type": "markdown",
   "metadata": {},
   "source": [
    "#### In-Class Exercise #3 <br>\n",
    "<p>Filter out all the numbers that are below the mean of the list.<br><b>Hint: Import the 'statistics' module</b></p>"
   ]
  },
  {
   "cell_type": "code",
   "execution_count": null,
   "metadata": {},
   "outputs": [],
   "source": [
    "list3 = [2,6,99,2,45,56]\n",
    "# def lower_mean(num):\n",
    "#     if num < (sum(list3)/len(list3)):\n",
    "#         return True\n",
    "#     else:\n",
    "#         return False\n",
    "\n",
    "#print(list(filter(lower_mean, list3)))\n",
    "\n",
    "# Using lambda\n",
    "def below_mean(mylist):\n",
    "    return list(filter(lambda num: sum(mylist)/len(mylist) > num, mylist))\n",
    "\n",
    "below_mean(list3)"
   ]
  },
  {
   "cell_type": "markdown",
   "metadata": {},
   "source": [
    "### Zip()"
   ]
  },
  {
   "cell_type": "code",
   "execution_count": null,
   "metadata": {},
   "outputs": [],
   "source": [
    "# zip(*iterable)\n",
    "# if you have something at each equivalent index for a few lists, then it will create a new list\n",
    "first_names = ['Kobe', 'Michael', 'Kevin']\n",
    "nick_names = ['The Mambda', 'The GOAT'] \n",
    "last_names = ['Bryant', 'Jordan', 'Durant', 'Booker']\n",
    "\n",
    "print(list(zip(first_names, nick_names, last_names)))"
   ]
  },
  {
   "attachments": {},
   "cell_type": "markdown",
   "metadata": {},
   "source": [
    "## Reduce() <br>\n",
    "<p>Be very careful when using this function, as of Python 3 it's been moved to the 'functools' library and no longer is a built-in function.<br>The creator of Python himself, says to just use a for loop instead, because of the added complexity and inefficiency compared to a basic for loop.</p>"
   ]
  },
  {
   "cell_type": "markdown",
   "metadata": {},
   "source": [
    "#### Syntax"
   ]
  },
  {
   "cell_type": "code",
   "execution_count": null,
   "metadata": {},
   "outputs": [],
   "source": [
    "from functools import reduce\n",
    "# user-defined function\n",
    "the_other_list = [1,2,3,4,5,6,7,8,9,10,11]\n",
    "def add_nums(nums_list):\n",
    "    total = 0\n",
    "    for num in nums_list:\n",
    "        total += num\n",
    "    return total\n",
    "\n",
    "print(add_nums(the_other_list))\n",
    "\n",
    "#reduce(function, iterable)\n",
    "def add_single_num(num1, num2):\n",
    "    return num1 + num2\n",
    "\n",
    "print(reduce(add_single_num, the_other_list))"
   ]
  },
  {
   "cell_type": "markdown",
   "metadata": {},
   "source": [
    "#### Using Lambda's with Reduce()"
   ]
  },
  {
   "cell_type": "code",
   "execution_count": null,
   "metadata": {},
   "outputs": [],
   "source": [
    "reduce(lambda num1, num2: num1+num2, the_other_list)"
   ]
  },
  {
   "cell_type": "markdown",
   "metadata": {},
   "source": [
    "## Recursion <br>\n",
    "<p>Recursion means that a function is calling itself, so it contanstly executes until a base case is reached. It will then push the returning values back up the chain until the function is complete. A prime example of recursion is computing factorials... such that 5! (factorial) is 5*4*3*2*1 which equals 120.</p>"
   ]
  },
  {
   "cell_type": "markdown",
   "metadata": {},
   "source": [
    "#### Implementing a Base Case"
   ]
  },
  {
   "cell_type": "code",
   "execution_count": null,
   "metadata": {},
   "outputs": [],
   "source": [
    "#similar to while loop, will keep running until condition is met\n",
    "\n",
    "def add_nums(num):\n",
    "# 5 + (4 + (3 + (2 + (1))))\n",
    "# base case\n",
    "    if num <= 1:\n",
    "        print(f'Add_nums({num}) = {num}')\n",
    "        return num\n",
    "# recursive case\n",
    "    else:\n",
    "        print(f'Add_nums({num}) = {num} + add_nums({num-1})')\n",
    "        return num + add_nums(num-1)\n",
    "\n",
    "print(add_nums(5))\n"
   ]
  },
  {
   "cell_type": "markdown",
   "metadata": {},
   "source": [
    "#### Writing a Factorial Function"
   ]
  },
  {
   "cell_type": "code",
   "execution_count": null,
   "metadata": {},
   "outputs": [],
   "source": [
    "def factorial(num):\n",
    "    if num <= 1:\n",
    "        print(f'Factorial{num} = {num}')\n",
    "        return num\n",
    "    else:\n",
    "        print(f'Factorial{num} = {num} * Factorial {num-1}')\n",
    "        return num * factorial(num-1)\n",
    "\n",
    "print(factorial(5))"
   ]
  },
  {
   "cell_type": "markdown",
   "metadata": {},
   "source": [
    "#### In-Class Exercise #5 <br>\n",
    "<p>Write a recursive function that subtracts all numbers to the argument given.</p>"
   ]
  },
  {
   "cell_type": "code",
   "execution_count": null,
   "metadata": {},
   "outputs": [],
   "source": [
    "def recur_subtraction(num):\n",
    "    if num <= 1:\n",
    "        return num\n",
    "    else:\n",
    "        return num - recur_subtraction(num-1)\n",
    "\n",
    "print(recur_subtraction(10))"
   ]
  },
  {
   "cell_type": "markdown",
   "metadata": {},
   "source": [
    "## Generators <br>\n",
    "<p>Generators are a type of iterable, like lists or tuples. They do not allow indexing, but they can still be iterated through with for loops. They are created using functions and the yield statement.</p>"
   ]
  },
  {
   "cell_type": "markdown",
   "metadata": {},
   "source": [
    "#### Yield Keyword <br>\n",
    "<p>The yield keyword denotes a generator, it doesn't return so it won't leave the function and reset all variables in the function scope, instead it yields the number back to the caller.</p>"
   ]
  },
  {
   "cell_type": "code",
   "execution_count": null,
   "metadata": {},
   "outputs": [],
   "source": [
    "# User defined Generator\n",
    "def my_generator():\n",
    "    num = 0\n",
    "    while True:\n",
    "        yield num\n",
    "        num += 1\n",
    "print(my_generator)\n",
    "\n",
    "# Saving our generator state to a variable \n",
    "generate = my_generator()\n",
    "print(generate)\n",
    "\n",
    "# next() returns next item in a iterator\n",
    "# print(next(generate))\n",
    "# #now it's saving variable state with the new num value, which means num = 1 now\n",
    "# print(next(generate))\n",
    "# #now it's saving variable state with the new num value, which means num = 2 now\n",
    "# print(next(generate))\n",
    "# #now it's saving variable state with the new num value, which means num = 3 now\n",
    "# print(next(generate))\n",
    "\n",
    "for i in range(10):\n",
    "    print(next(generate))"
   ]
  },
  {
   "cell_type": "markdown",
   "metadata": {},
   "source": [
    "#### In-Class Exercise #6 <br>\n",
    "<p>Create a generator that takes a number argument and yields that number squared, then prints each number squared until zero is reached.</p>"
   ]
  },
  {
   "cell_type": "code",
   "execution_count": null,
   "metadata": {},
   "outputs": [],
   "source": [
    "def new_generator(num):\n",
    "    while num > 0:\n",
    "        yield num**2\n",
    "        num -= 1\n",
    "\n",
    "generate = new_generator(5)\n",
    "print(next(generate))\n",
    "print(next(generate))\n",
    "print(next(generate))\n",
    "print(next(generate))\n",
    "print(next(generate))"
   ]
  },
  {
   "cell_type": "markdown",
   "metadata": {},
   "source": [
    "# Exercises"
   ]
  },
  {
   "cell_type": "markdown",
   "metadata": {},
   "source": [
    "### Exercise #1 <br>\n",
    "<p>Filter out all of the empty strings from the list below</p>\n",
    "\n",
    "`Output: ['Argentina', 'San Diego', 'Boston', 'New York']`"
   ]
  },
  {
   "cell_type": "code",
   "execution_count": null,
   "metadata": {},
   "outputs": [],
   "source": [
    "places = [\" \",\"Argentina\", \" \", \"San Diego\",\"\",\"  \",\"\",\"Boston\",\"New York\"]\n",
    "\n",
    "# checking to see what condition I need for the lambda \n",
    "# def empty_list(list1):\n",
    "#     new_list = []\n",
    "#     for place in list1:\n",
    "#         if place != \" \" and place != \"\" and place != \"  \":\n",
    "#             new_list.append(place)\n",
    "#     return new_list\n",
    "\n",
    "# print(empty_list(places))\n",
    "\n",
    "print(list(filter(lambda place: place != \" \" and place != \"\" and place != \"  \", places)))"
   ]
  },
  {
   "cell_type": "markdown",
   "metadata": {},
   "source": [
    "### Exercise #2 <br>\n",
    "<p>Write an anonymous function that sorts this list by the last name...<br><b>Hint: Use the \".sort()\" method and access the key\"</b></p>\n",
    "\n",
    "`Output: ['Victor aNisimov', 'Gary A.J. Bernstein', 'Joel Carter', 'Andrew P. Garfield', 'David hassELHOFF']`"
   ]
  },
  {
   "cell_type": "code",
   "execution_count": 1,
   "metadata": {},
   "outputs": [
    {
     "name": "stdout",
     "output_type": "stream",
     "text": [
      "['Victor aNisimov', 'Gary A.J. Bernstein', 'Joel Carter', 'Andrew P. Garfield', 'David hassELHOFF']\n"
     ]
    }
   ],
   "source": [
    "author = [\"Joel Carter\", \"Victor aNisimov\", \"Andrew P. Garfield\",\"David hassELHOFF\",\"Gary A.J. Bernstein\"]\n",
    "\n",
    "#figure out condition I need for lambda\n",
    "#Function through for loop\n",
    "# def sort_lastname(list2):\n",
    "#     # create new list\n",
    "#     new_list = []\n",
    "#     # for loop through existing list\n",
    "#     for name in list2:\n",
    "#         # need to distinguish between first name and last name -> change each value into its own list\n",
    "#         name.split()\n",
    "#         new_list.append(name.split())\n",
    "#         list2 = []\n",
    "#         # need to sort them in reverse now\n",
    "#         for val in sorted(new_list, key=lambda x: x[-1]):\n",
    "#             list2.append(' '.join(val))\n",
    "#     return new_list\n",
    "\n",
    "new_list = sorted(author, key=lambda name: name.split(' ')[-1].lower())\n",
    "print(new_list)"
   ]
  },
  {
   "cell_type": "markdown",
   "metadata": {},
   "source": [
    "### Exercise #3 <br>\n",
    "<p>Convert the list below from Celsius to Farhenheit, using the map function with a lambda...</p>\n",
    "\n",
    "`Output: [('Nashua', 89.6), ('Boston', 53.6), ('Los Angelos', 111.2), ('Miami', 84.2)]\n",
    "`"
   ]
  },
  {
   "cell_type": "code",
   "execution_count": null,
   "metadata": {},
   "outputs": [],
   "source": [
    "# F = (9/5)*C + 32\n",
    "places = [('Nashua',32),(\"Boston\",12),(\"Los Angelos\",44),(\"Miami\",29)]\n",
    "\n",
    "# Function through a for loop\n",
    "def temp_conversion(list3):\n",
    "    # create new empty list\n",
    "    faren_list = []\n",
    "    # for loop through existing list\n",
    "    for i in list3:\n",
    "        # convert tuple to list to alter contents\n",
    "        tup_list = list(i)\n",
    "        # apply formula to convert temp\n",
    "        tup_list[1] = (9/5)*tup_list[1] + 32\n",
    "        # convert list back to tuple\n",
    "        tup_list = tuple(tup_list)\n",
    "        # append new list with tuples\n",
    "        faren_list.append(tup_list)\n",
    "    print(faren_list)\n",
    "\n",
    "#temp_conversion(places)\n",
    "\n",
    "# map(function, iterable) \n",
    "def temp_convert(tup_list):\n",
    "    tup_list = list(tup_list)\n",
    "    tup_list[1] = (9/5)*tup_list[1] + 32\n",
    "    tup_list = tuple(tup_list)\n",
    "    return tup_list\n",
    "\n",
    "print(list(map(temp_convert, places)))"
   ]
  },
  {
   "attachments": {},
   "cell_type": "markdown",
   "metadata": {},
   "source": [
    "### Exercise #4 <br>\n",
    "<p>Write a recursion function to perform the fibonacci sequence up to the number passed in.</p>\n",
    "\n",
    "`Output for fib(5) => \n",
    "Iteration 0: 0\n",
    "Iteration 1: 1\n",
    "Iteration 2: 1\n",
    "Iteration 3: 2\n",
    "Iteration 4: 3\n",
    "Iteration 5: 5`"
   ]
  },
  {
   "cell_type": "code",
   "execution_count": null,
   "metadata": {
    "scrolled": true
   },
   "outputs": [],
   "source": [
    "#5th point needs to be commented"
   ]
  }
 ],
 "metadata": {
  "kernelspec": {
   "display_name": "Python 3",
   "language": "python",
   "name": "python3"
  },
  "language_info": {
   "codemirror_mode": {
    "name": "ipython",
    "version": 3
   },
   "file_extension": ".py",
   "mimetype": "text/x-python",
   "name": "python",
   "nbconvert_exporter": "python",
   "pygments_lexer": "ipython3",
   "version": "3.10.9"
  },
  "vscode": {
   "interpreter": {
    "hash": "b90313491b8fcf5277c814ee9f8b8bef470f56b3ea82ad801adfe9786958121d"
   }
  }
 },
 "nbformat": 4,
 "nbformat_minor": 2
}
